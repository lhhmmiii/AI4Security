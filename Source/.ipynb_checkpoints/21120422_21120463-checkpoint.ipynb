{
 "cells": [
  {
   "cell_type": "markdown",
   "id": "71f29b5c-6c98-4f0b-acd6-ce8ede413b05",
   "metadata": {},
   "source": [
    "# Thông tin thành viên\n",
    "- **Họ và tên:** Nguyễn Chí Cường &nbsp; **MSSV:** &nbsp; 21120422\n",
    "\r",
    "- **Họ và tên:**  ê Hữu Hưng &nbsp; **MSSV:** &nbsp;  21120463"
   ]
  },
  {
   "cell_type": "markdown",
   "id": "7c5b9296-ca74-455a-b76a-c73810e858fc",
   "metadata": {
    "id": "7c5b9296-ca74-455a-b76a-c73810e858fc"
   },
   "source": [
    "# 1. Import thư viện"
   ]
  },
  {
   "cell_type": "code",
   "execution_count": 1,
   "id": "a133aa89-cb4a-4cf8-884a-fb327eb6180f",
   "metadata": {
    "colab": {
     "base_uri": "https://localhost:8080/"
    },
    "id": "a133aa89-cb4a-4cf8-884a-fb327eb6180f",
    "outputId": "c219bc6f-6088-4827-a09a-88d4ee62a8eb"
   },
   "outputs": [
    {
     "name": "stderr",
     "output_type": "stream",
     "text": [
      "[nltk_data] Downloading package stopwords to C:\\Users\\FPT\n",
      "[nltk_data]     SHOP\\AppData\\Roaming\\nltk_data...\n",
      "[nltk_data]   Package stopwords is already up-to-date!\n",
      "[nltk_data] Downloading package punkt to C:\\Users\\FPT\n",
      "[nltk_data]     SHOP\\AppData\\Roaming\\nltk_data...\n",
      "[nltk_data]   Package punkt is already up-to-date!\n",
      "[nltk_data] Downloading package wordnet to C:\\Users\\FPT\n",
      "[nltk_data]     SHOP\\AppData\\Roaming\\nltk_data...\n",
      "[nltk_data]   Package wordnet is already up-to-date!\n"
     ]
    }
   ],
   "source": [
    "import numpy as np\n",
    "import pandas as pd\n",
    "import nltk\n",
    "nltk.download('stopwords')\n",
    "nltk.download('punkt')\n",
    "nltk.download('wordnet')\n",
    "\n",
    "from nltk.corpus import stopwords\n",
    "from nltk.stem import WordNetLemmatizer\n",
    "from nltk.tokenize import word_tokenize\n",
    "import re\n",
    "from sklearn.preprocessing import LabelEncoder\n",
    "\n",
    "from sklearn.feature_extraction.text import TfidfVectorizer\n",
    "from sklearn.metrics import accuracy_score, confusion_matrix, precision_score, classification_report\n",
    "from sklearn.model_selection import train_test_split, GridSearchCV\n",
    "\n",
    "# Native bayes\n",
    "from sklearn.naive_bayes import MultinomialNB\n",
    "\n",
    "# Decision tree\n",
    "from sklearn.tree import DecisionTreeClassifier\n",
    "\n",
    "# Random Forest\n",
    "from sklearn.ensemble import RandomForestClassifier\n",
    "\n",
    "# SVM\n",
    "from sklearn.svm import SVC\n",
    "\n",
    "# Visualization\n",
    "import matplotlib.pyplot as plt\n",
    "import seaborn as sns\n",
    "\n",
    "import time"
   ]
  },
  {
   "cell_type": "markdown",
   "id": "861076e1-df0a-45cc-99ae-ed223eb06039",
   "metadata": {
    "id": "861076e1-df0a-45cc-99ae-ed223eb06039"
   },
   "source": [
    "# 2. Preprocessing data"
   ]
  },
  {
   "cell_type": "code",
   "execution_count": 2,
   "id": "HIGFNMEhh4Qv",
   "metadata": {
    "colab": {
     "base_uri": "https://localhost:8080/"
    },
    "id": "HIGFNMEhh4Qv",
    "outputId": "19ead4b8-b83f-4e90-d995-dd267a793dda"
   },
   "outputs": [],
   "source": [
    "# train.csv: https://drive.google.com/file/d/1r04nzjrVx15b-GBhRcsr80wm-AXkEdo_/view?usp=sharing\n",
    "# val.csv: https://drive.google.com/file/d/1NkaTbBpHdUhcereL7Nhv6NQHhPCLOtWy/view?usp=sharing\n",
    "\n",
    "### Tải file train.csv và val.csv ===> Nếu chạy trên google colab thì uncomment\n",
    "# !gdown 'https://drive.google.com/uc?id=1r04nzjrVx15b-GBhRcsr80wm-AXkEdo_' -O train.csv\n",
    "# !gdown 'https://drive.google.com/uc?id=1NkaTbBpHdUhcereL7Nhv6NQHhPCLOtWy' -O val.csv"
   ]
  },
  {
   "cell_type": "code",
   "execution_count": 3,
   "id": "16cef7c7-5c1a-45ad-93fc-8612eb1afcc1",
   "metadata": {
    "id": "16cef7c7-5c1a-45ad-93fc-8612eb1afcc1"
   },
   "outputs": [],
   "source": [
    "### Đọc file CSV và đặt cột \"Message ID\" làm index, sau đó bỏ qua các cột không cần thiết\n",
    "### Lưu ý: Nếu chạy trên jupyter notebook thì có file train.csv và val.csv cùng thư mục code\n",
    "train_data = pd.read_csv('train.csv', index_col='Message ID').drop(columns=['Unnamed: 0', 'split'], axis=1)\n",
    "val_data = pd.read_csv('val.csv', index_col='Message ID').drop(columns=['Unnamed: 0', 'split'], axis=1)"
   ]
  },
  {
   "cell_type": "code",
   "execution_count": 4,
   "id": "4e080f06-dd0e-4087-9c31-8d20f90dfa77",
   "metadata": {
    "colab": {
     "base_uri": "https://localhost:8080/",
     "height": 237
    },
    "id": "4e080f06-dd0e-4087-9c31-8d20f90dfa77",
    "outputId": "846b7209-37b3-4b37-c79a-292ea3db88f5"
   },
   "outputs": [
    {
     "data": {
      "text/html": [
       "<div>\n",
       "<style scoped>\n",
       "    .dataframe tbody tr th:only-of-type {\n",
       "        vertical-align: middle;\n",
       "    }\n",
       "\n",
       "    .dataframe tbody tr th {\n",
       "        vertical-align: top;\n",
       "    }\n",
       "\n",
       "    .dataframe thead th {\n",
       "        text-align: right;\n",
       "    }\n",
       "</style>\n",
       "<table border=\"1\" class=\"dataframe\">\n",
       "  <thead>\n",
       "    <tr style=\"text-align: right;\">\n",
       "      <th></th>\n",
       "      <th>Subject</th>\n",
       "      <th>Message</th>\n",
       "      <th>Spam/Ham</th>\n",
       "    </tr>\n",
       "    <tr>\n",
       "      <th>Message ID</th>\n",
       "      <th></th>\n",
       "      <th></th>\n",
       "      <th></th>\n",
       "    </tr>\n",
       "  </thead>\n",
       "  <tbody>\n",
       "    <tr>\n",
       "      <th>0</th>\n",
       "      <td>christmas tree farm pictures</td>\n",
       "      <td>NaN</td>\n",
       "      <td>ham</td>\n",
       "    </tr>\n",
       "    <tr>\n",
       "      <th>1</th>\n",
       "      <td>vastar resources , inc .</td>\n",
       "      <td>gary , production from the high island larger ...</td>\n",
       "      <td>ham</td>\n",
       "    </tr>\n",
       "    <tr>\n",
       "      <th>2</th>\n",
       "      <td>calpine daily gas nomination</td>\n",
       "      <td>- calpine daily gas nomination 1 . doc</td>\n",
       "      <td>ham</td>\n",
       "    </tr>\n",
       "    <tr>\n",
       "      <th>3</th>\n",
       "      <td>re : issue</td>\n",
       "      <td>fyi - see note below - already done .\\nstella\\...</td>\n",
       "      <td>ham</td>\n",
       "    </tr>\n",
       "    <tr>\n",
       "      <th>5</th>\n",
       "      <td>mcmullen gas for 11 / 99</td>\n",
       "      <td>jackie ,\\nsince the inlet to 3 river plant is ...</td>\n",
       "      <td>ham</td>\n",
       "    </tr>\n",
       "  </tbody>\n",
       "</table>\n",
       "</div>"
      ],
      "text/plain": [
       "                                 Subject  \\\n",
       "Message ID                                 \n",
       "0           christmas tree farm pictures   \n",
       "1               vastar resources , inc .   \n",
       "2           calpine daily gas nomination   \n",
       "3                             re : issue   \n",
       "5               mcmullen gas for 11 / 99   \n",
       "\n",
       "                                                      Message Spam/Ham  \n",
       "Message ID                                                              \n",
       "0                                                         NaN      ham  \n",
       "1           gary , production from the high island larger ...      ham  \n",
       "2                      - calpine daily gas nomination 1 . doc      ham  \n",
       "3           fyi - see note below - already done .\\nstella\\...      ham  \n",
       "5           jackie ,\\nsince the inlet to 3 river plant is ...      ham  "
      ]
     },
     "execution_count": 4,
     "metadata": {},
     "output_type": "execute_result"
    }
   ],
   "source": [
    "# Hiển thị 5 dòng đầu tiên trong tập train\n",
    "train_data.head()"
   ]
  },
  {
   "cell_type": "code",
   "execution_count": 5,
   "id": "53413279-96dd-4e61-a3c4-0817251fa071",
   "metadata": {
    "colab": {
     "base_uri": "https://localhost:8080/",
     "height": 237
    },
    "id": "53413279-96dd-4e61-a3c4-0817251fa071",
    "outputId": "25ae9213-a2ec-4e25-c539-0e4f700a2996"
   },
   "outputs": [
    {
     "data": {
      "text/html": [
       "<div>\n",
       "<style scoped>\n",
       "    .dataframe tbody tr th:only-of-type {\n",
       "        vertical-align: middle;\n",
       "    }\n",
       "\n",
       "    .dataframe tbody tr th {\n",
       "        vertical-align: top;\n",
       "    }\n",
       "\n",
       "    .dataframe thead th {\n",
       "        text-align: right;\n",
       "    }\n",
       "</style>\n",
       "<table border=\"1\" class=\"dataframe\">\n",
       "  <thead>\n",
       "    <tr style=\"text-align: right;\">\n",
       "      <th></th>\n",
       "      <th>Subject</th>\n",
       "      <th>Message</th>\n",
       "      <th>Spam/Ham</th>\n",
       "    </tr>\n",
       "    <tr>\n",
       "      <th>Message ID</th>\n",
       "      <th></th>\n",
       "      <th></th>\n",
       "      <th></th>\n",
       "    </tr>\n",
       "  </thead>\n",
       "  <tbody>\n",
       "    <tr>\n",
       "      <th>23</th>\n",
       "      <td>miscellaneous</td>\n",
       "      <td>- - - - - - - - - - - - - - - - - - - - - - fo...</td>\n",
       "      <td>ham</td>\n",
       "    </tr>\n",
       "    <tr>\n",
       "      <th>24</th>\n",
       "      <td>re : purge of old contract _ event _ status</td>\n",
       "      <td>fyi - what do you all think ?\\n- - - - - - - -...</td>\n",
       "      <td>ham</td>\n",
       "    </tr>\n",
       "    <tr>\n",
       "      <th>32</th>\n",
       "      <td>valero 8018 and 1394</td>\n",
       "      <td>it is my understanding the outages valero incu...</td>\n",
       "      <td>ham</td>\n",
       "    </tr>\n",
       "    <tr>\n",
       "      <th>37</th>\n",
       "      <td>01 / 00 natural gas nomination</td>\n",
       "      <td>enron methanol company nominates the following...</td>\n",
       "      <td>ham</td>\n",
       "    </tr>\n",
       "    <tr>\n",
       "      <th>43</th>\n",
       "      <td>re : misc . questions</td>\n",
       "      <td>- - - - - - - - - - - - - - - - - - - - - - fo...</td>\n",
       "      <td>ham</td>\n",
       "    </tr>\n",
       "  </tbody>\n",
       "</table>\n",
       "</div>"
      ],
      "text/plain": [
       "                                                Subject  \\\n",
       "Message ID                                                \n",
       "23                                        miscellaneous   \n",
       "24          re : purge of old contract _ event _ status   \n",
       "32                                 valero 8018 and 1394   \n",
       "37                       01 / 00 natural gas nomination   \n",
       "43                                re : misc . questions   \n",
       "\n",
       "                                                      Message Spam/Ham  \n",
       "Message ID                                                              \n",
       "23          - - - - - - - - - - - - - - - - - - - - - - fo...      ham  \n",
       "24          fyi - what do you all think ?\\n- - - - - - - -...      ham  \n",
       "32          it is my understanding the outages valero incu...      ham  \n",
       "37          enron methanol company nominates the following...      ham  \n",
       "43          - - - - - - - - - - - - - - - - - - - - - - fo...      ham  "
      ]
     },
     "execution_count": 5,
     "metadata": {},
     "output_type": "execute_result"
    }
   ],
   "source": [
    "# Hiện thị 5 dòng đầu tiên trong tập val\n",
    "val_data.head()"
   ]
  },
  {
   "cell_type": "code",
   "execution_count": 6,
   "id": "1f5d8fd4-5d2a-4d1e-90be-7ffd3b348d83",
   "metadata": {
    "colab": {
     "base_uri": "https://localhost:8080/"
    },
    "id": "1f5d8fd4-5d2a-4d1e-90be-7ffd3b348d83",
    "outputId": "ec6997a3-297e-43c6-d3f9-0d0ad85e6f80"
   },
   "outputs": [
    {
     "name": "stdout",
     "output_type": "stream",
     "text": [
      "Number of rows of train data:  27284\n",
      "Number of rows of val data 3084\n"
     ]
    }
   ],
   "source": [
    "# Hiển thị số lượng sample trong tập train và val\n",
    "print('Number of rows of train data: ', len(train_data))\n",
    "print('Number of rows of val data',len(val_data))"
   ]
  },
  {
   "cell_type": "code",
   "execution_count": 7,
   "id": "faa7ad21-ff48-47fb-b68b-3b8eecf3725d",
   "metadata": {
    "colab": {
     "base_uri": "https://localhost:8080/",
     "height": 637
    },
    "id": "faa7ad21-ff48-47fb-b68b-3b8eecf3725d",
    "outputId": "8d7fcb22-baa0-4cb6-82c8-72844bdc1900"
   },
   "outputs": [
    {
     "name": "stdout",
     "output_type": "stream",
     "text": [
      "Number of spam email of train data:  13858\n",
      "Number of ham email of train data:  13426\n",
      "Number of spam email of val data:  1563\n",
      "Number of ham email of val data:  1521\n"
     ]
    },
    {
     "name": "stderr",
     "output_type": "stream",
     "text": [
      "D:\\Save\\anaconda\\Lib\\site-packages\\seaborn\\_oldcore.py:1765: FutureWarning: unique with argument that is not not a Series, Index, ExtensionArray, or np.ndarray is deprecated and will raise in a future version.\n",
      "  order = pd.unique(vector)\n"
     ]
    },
    {
     "data": {
      "image/png": "[encoded data removed]",
      "text/plain": [
       "<Figure size 1000x600 with 1 Axes>"
      ]
     },
     "metadata": {},
     "output_type": "display_data"
    }
   ],
   "source": [
    "# Tính toán số lượng nhãn spam và ham trong tập train và val\n",
    "train_spam_count = len(train_data[train_data['Spam/Ham'] == 'spam'])\n",
    "train_ham_count = len(train_data[train_data['Spam/Ham'] == 'ham'])\n",
    "val_spam_count = len(val_data[val_data['Spam/Ham'] == 'spam'])\n",
    "val_ham_count = len(val_data[val_data['Spam/Ham'] == 'ham'])\n",
    "\n",
    "print('Number of spam email of train data: ',train_spam_count )\n",
    "print('Number of ham email of train data: ',train_ham_count)\n",
    "print('Number of spam email of val data: ', val_spam_count)\n",
    "print('Number of ham email of val data: ', val_ham_count)\n",
    "\n",
    "# Tạo dữ liệu trong đồ thị\n",
    "labels = ['Train Spam', 'Train Ham', 'Val Spam', 'Val Ham']\n",
    "counts = [train_spam_count, train_ham_count, val_spam_count, val_ham_count]\n",
    "\n",
    "# Vẽ đồ thị (graph)\n",
    "plt.figure(figsize=(10, 6))\n",
    "sns.barplot(x=labels, y=counts)\n",
    "\n",
    "# Chỉnh màu\n",
    "colors = ['#ff9999', '#ff9999', '#99ff99', '#99ff99']\n",
    "for i, patch in enumerate(plt.gca().patches):\n",
    "    patch.set_facecolor(colors[i])\n",
    "\n",
    "# Thêm title và nhãn cho đồ thị (graph)\n",
    "plt.title('Number of Spam and Ham Emails in Train and Val Data')\n",
    "plt.xlabel('Category')\n",
    "plt.ylabel('Count')\n",
    "\n",
    "# Hiện thị số lượng trên mỗi cột\n",
    "for i in range(len(counts)):\n",
    "    plt.text(i, counts[i] + 0.5, counts[i], ha='center', va='bottom')\n",
    "\n",
    "# Hiện thị\n",
    "plt.show()"
   ]
  },
  {
   "cell_type": "code",
   "execution_count": 8,
   "id": "a162a3be-fad2-47ed-b0b6-0ebeadcff5fe",
   "metadata": {
    "colab": {
     "base_uri": "https://localhost:8080/"
    },
    "id": "a162a3be-fad2-47ed-b0b6-0ebeadcff5fe",
    "outputId": "4f11c9c3-2c6c-429c-bd4b-a7af0cb98a08"
   },
   "outputs": [
    {
     "data": {
      "text/plain": [
       "(25023, 3033)"
      ]
     },
     "execution_count": 8,
     "metadata": {},
     "output_type": "execute_result"
    }
   ],
   "source": [
    "# Xóa những dòng trùng lặp\n",
    "train_data.drop_duplicates(inplace=True)\n",
    "val_data.drop_duplicates(inplace=True)\n",
    "\n",
    "len(train_data), len(val_data)\n",
    "\n",
    "# Nhận xét: Có những dòng trùng lặp nào trong tập train và val"
   ]
  },
  {
   "cell_type": "code",
   "execution_count": 9,
   "id": "C5EKmDGfPzOs",
   "metadata": {
    "colab": {
     "base_uri": "https://localhost:8080/"
    },
    "id": "C5EKmDGfPzOs",
    "outputId": "bbd1f100-fe04-47b9-8067-8a841ab7d83f"
   },
   "outputs": [
    {
     "name": "stdout",
     "output_type": "stream",
     "text": [
      "Train.csv:\n",
      " Subject     159\n",
      "Message     236\n",
      "Spam/Ham      0\n",
      "dtype: int64 \n",
      "\n",
      "\n",
      "Val.csv:\n",
      " Subject     25\n",
      "Message     29\n",
      "Spam/Ham     0\n",
      "dtype: int64\n"
     ]
    }
   ],
   "source": [
    "# Kiểm tra tỷ lệ giá trị NaN trong train và val\n",
    "print(\"Train.csv:\\n\", train_data.isna().sum(), \"\\n\\n\")\n",
    "print(\"Val.csv:\\n\",val_data.isna().sum())"
   ]
  },
  {
   "cell_type": "code",
   "execution_count": 10,
   "id": "wNKiDHuUSBO7",
   "metadata": {
    "id": "wNKiDHuUSBO7"
   },
   "outputs": [],
   "source": [
    "# Thay thế giá trị NaN trong train và val thành chuỗi rỗng\n",
    "train_data = train_data.fillna('')\n",
    "val_data = val_data.fillna('')"
   ]
  },
  {
   "cell_type": "code",
   "execution_count": 11,
   "id": "BkreFJwzRC8F",
   "metadata": {
    "id": "BkreFJwzRC8F"
   },
   "outputs": [],
   "source": [
    "# Trích xuất nội dung của 1 sample: Subject và Message để quan sát dữ liệu\n",
    "# train_data['Subject'][1], train_data['Message'][1]"
   ]
  },
  {
   "cell_type": "code",
   "execution_count": 12,
   "id": "H4gZUKBuTaCZ",
   "metadata": {
    "colab": {
     "base_uri": "https://localhost:8080/"
    },
    "id": "H4gZUKBuTaCZ",
    "outputId": "2009bfd8-19b4-4f70-d2e2-3b4eb9918e78"
   },
   "outputs": [
    {
     "name": "stdout",
     "output_type": "stream",
     "text": [
      "CPU times: total: 0 ns\n",
      "Wall time: 0 ns\n"
     ]
    }
   ],
   "source": [
    "%%time\n",
    "# Hàm tiền xử lý văn bản\n",
    "def clean_text(text):\n",
    "    \"\"\"\n",
    "    1. Chuyển thành chữ thường\n",
    "    2. Tách từ (tokenization)\n",
    "    3. Xóa các ký tự đặc biệt\n",
    "    # 4. Xóa stop words - không cần thiết vì dùng cho tf-idf\n",
    "    5. Lemmatization\n",
    "    6. Nối từ thành chuỗi\n",
    "    \"\"\"\n",
    "    # 1. Chuyển chữ thường\n",
    "    text = text.lower()\n",
    "\n",
    "    # 2. Tách từ (tokenization)\n",
    "    words = word_tokenize(text)\n",
    "\n",
    "    # 3. Xóa kí tự đặc biệt\n",
    "    regex = r'[^a-zA-Z0-9\\s]'\n",
    "    words = [re.sub(regex, '', word) for word in words]\n",
    "\n",
    "    # # 4. Xóa stop words - không cần thiết vì dùng cho tf-idf\n",
    "    # stop_words = set(stopwords.words('english'))\n",
    "    # words = [word for word in words if word not in stop_words]\n",
    "\n",
    "    # 5. Lemmatization (Đưa từ về gốc)\n",
    "    lemmatizer = WordNetLemmatizer()\n",
    "    words = [lemmatizer.lemmatize(word) for word in words]\n",
    "\n",
    "    # 6. Nối lại các từ thành chuỗi\n",
    "    return ' '.join(words)\n",
    "\n",
    "# Áp dụng hàm clean_text cho dữ liệu train và val\n",
    "def apply_clean_text(data, columns):\n",
    "    for column in columns:\n",
    "        data[column] = data[column].apply(clean_text)\n",
    "    return data"
   ]
  },
  {
   "cell_type": "code",
   "execution_count": 13,
   "id": "58aBjfsAbast",
   "metadata": {
    "colab": {
     "base_uri": "https://localhost:8080/",
     "height": 237
    },
    "id": "58aBjfsAbast",
    "outputId": "43bd4ecb-7b75-47ad-b5fc-7902884ab6e1"
   },
   "outputs": [
    {
     "data": {
      "text/html": [
       "<div>\n",
       "<style scoped>\n",
       "    .dataframe tbody tr th:only-of-type {\n",
       "        vertical-align: middle;\n",
       "    }\n",
       "\n",
       "    .dataframe tbody tr th {\n",
       "        vertical-align: top;\n",
       "    }\n",
       "\n",
       "    .dataframe thead th {\n",
       "        text-align: right;\n",
       "    }\n",
       "</style>\n",
       "<table border=\"1\" class=\"dataframe\">\n",
       "  <thead>\n",
       "    <tr style=\"text-align: right;\">\n",
       "      <th></th>\n",
       "      <th>Subject</th>\n",
       "      <th>Message</th>\n",
       "      <th>Spam/Ham</th>\n",
       "    </tr>\n",
       "    <tr>\n",
       "      <th>Message ID</th>\n",
       "      <th></th>\n",
       "      <th></th>\n",
       "      <th></th>\n",
       "    </tr>\n",
       "  </thead>\n",
       "  <tbody>\n",
       "    <tr>\n",
       "      <th>0</th>\n",
       "      <td>christmas tree farm picture</td>\n",
       "      <td></td>\n",
       "      <td>ham</td>\n",
       "    </tr>\n",
       "    <tr>\n",
       "      <th>1</th>\n",
       "      <td>vastar resource  inc</td>\n",
       "      <td>gary  production from the high island larger b...</td>\n",
       "      <td>ham</td>\n",
       "    </tr>\n",
       "    <tr>\n",
       "      <th>2</th>\n",
       "      <td>calpine daily gas nomination</td>\n",
       "      <td>calpine daily gas nomination 1  doc</td>\n",
       "      <td>ham</td>\n",
       "    </tr>\n",
       "    <tr>\n",
       "      <th>3</th>\n",
       "      <td>re  issue</td>\n",
       "      <td>fyi  see note below  already done  stella     ...</td>\n",
       "      <td>ham</td>\n",
       "    </tr>\n",
       "    <tr>\n",
       "      <th>5</th>\n",
       "      <td>mcmullen gas for 11  99</td>\n",
       "      <td>jackie  since the inlet to 3 river plant is sh...</td>\n",
       "      <td>ham</td>\n",
       "    </tr>\n",
       "  </tbody>\n",
       "</table>\n",
       "</div>"
      ],
      "text/plain": [
       "                                 Subject  \\\n",
       "Message ID                                 \n",
       "0            christmas tree farm picture   \n",
       "1                  vastar resource  inc    \n",
       "2           calpine daily gas nomination   \n",
       "3                              re  issue   \n",
       "5                mcmullen gas for 11  99   \n",
       "\n",
       "                                                      Message Spam/Ham  \n",
       "Message ID                                                              \n",
       "0                                                                  ham  \n",
       "1           gary  production from the high island larger b...      ham  \n",
       "2                         calpine daily gas nomination 1  doc      ham  \n",
       "3           fyi  see note below  already done  stella     ...      ham  \n",
       "5           jackie  since the inlet to 3 river plant is sh...      ham  "
      ]
     },
     "execution_count": 13,
     "metadata": {},
     "output_type": "execute_result"
    }
   ],
   "source": [
    "# Tiền xử lý cho tập train và tập val\n",
    "train_data = apply_clean_text(train_data, ['Subject', 'Message'])\n",
    "val_data = apply_clean_text(val_data, ['Subject', 'Message'])\n",
    "\n",
    "# Kiểm tra kết quả đầu ra sau khi tiền xử lý tập train\n",
    "train_data.head()"
   ]
  },
  {
   "cell_type": "code",
   "execution_count": 14,
   "id": "uaEAdcefbjz-",
   "metadata": {
    "colab": {
     "base_uri": "https://localhost:8080/",
     "height": 237
    },
    "id": "uaEAdcefbjz-",
    "outputId": "7ef90b63-3055-4623-80df-f81ca74c04cd"
   },
   "outputs": [
    {
     "data": {
      "text/html": [
       "<div>\n",
       "<style scoped>\n",
       "    .dataframe tbody tr th:only-of-type {\n",
       "        vertical-align: middle;\n",
       "    }\n",
       "\n",
       "    .dataframe tbody tr th {\n",
       "        vertical-align: top;\n",
       "    }\n",
       "\n",
       "    .dataframe thead th {\n",
       "        text-align: right;\n",
       "    }\n",
       "</style>\n",
       "<table border=\"1\" class=\"dataframe\">\n",
       "  <thead>\n",
       "    <tr style=\"text-align: right;\">\n",
       "      <th></th>\n",
       "      <th>Subject</th>\n",
       "      <th>Message</th>\n",
       "      <th>Spam/Ham</th>\n",
       "    </tr>\n",
       "    <tr>\n",
       "      <th>Message ID</th>\n",
       "      <th></th>\n",
       "      <th></th>\n",
       "      <th></th>\n",
       "    </tr>\n",
       "  </thead>\n",
       "  <tbody>\n",
       "    <tr>\n",
       "      <th>23</th>\n",
       "      <td>miscellaneous</td>\n",
       "      <td>forwarded by ami chokshi...</td>\n",
       "      <td>ham</td>\n",
       "    </tr>\n",
       "    <tr>\n",
       "      <th>24</th>\n",
       "      <td>re  purge of old contract  event  status</td>\n",
       "      <td>fyi  what do you all think                    ...</td>\n",
       "      <td>ham</td>\n",
       "    </tr>\n",
       "    <tr>\n",
       "      <th>32</th>\n",
       "      <td>valero 8018 and 1394</td>\n",
       "      <td>it is my understanding the outage valero incur...</td>\n",
       "      <td>ham</td>\n",
       "    </tr>\n",
       "    <tr>\n",
       "      <th>37</th>\n",
       "      <td>01  00 natural gas nomination</td>\n",
       "      <td>enron methanol company nominates the following...</td>\n",
       "      <td>ham</td>\n",
       "    </tr>\n",
       "    <tr>\n",
       "      <th>43</th>\n",
       "      <td>re  misc  question</td>\n",
       "      <td>forwarded by ami chokshi...</td>\n",
       "      <td>ham</td>\n",
       "    </tr>\n",
       "  </tbody>\n",
       "</table>\n",
       "</div>"
      ],
      "text/plain": [
       "                                             Subject  \\\n",
       "Message ID                                             \n",
       "23                                     miscellaneous   \n",
       "24          re  purge of old contract  event  status   \n",
       "32                              valero 8018 and 1394   \n",
       "37                     01  00 natural gas nomination   \n",
       "43                                re  misc  question   \n",
       "\n",
       "                                                      Message Spam/Ham  \n",
       "Message ID                                                              \n",
       "23                                forwarded by ami chokshi...      ham  \n",
       "24          fyi  what do you all think                    ...      ham  \n",
       "32          it is my understanding the outage valero incur...      ham  \n",
       "37          enron methanol company nominates the following...      ham  \n",
       "43                                forwarded by ami chokshi...      ham  "
      ]
     },
     "execution_count": 14,
     "metadata": {},
     "output_type": "execute_result"
    }
   ],
   "source": [
    "# Kiểm tra kết quả đầu ra sau khi tiền xử lý tập val\n",
    "val_data.head()"
   ]
  },
  {
   "cell_type": "code",
   "execution_count": 15,
   "id": "2698b310-f281-4e31-b6c8-7a177e6a0779",
   "metadata": {
    "id": "2698b310-f281-4e31-b6c8-7a177e6a0779"
   },
   "outputs": [],
   "source": [
    "# Gán lại nhãn cho spam và ham\n",
    "train_data['Spam/Ham'] = train_data['Spam/Ham'].map({'spam': 1, 'ham': 0})\n",
    "val_data['Spam/Ham'] = val_data['Spam/Ham'].map({'spam': 1, 'ham': 0})"
   ]
  },
  {
   "cell_type": "code",
   "execution_count": 16,
   "id": "IfY1o25oftzB",
   "metadata": {
    "colab": {
     "base_uri": "https://localhost:8080/",
     "height": 237
    },
    "id": "IfY1o25oftzB",
    "outputId": "5cd324ba-3c4d-4349-ebac-8062115d9424"
   },
   "outputs": [
    {
     "data": {
      "text/html": [
       "<div>\n",
       "<style scoped>\n",
       "    .dataframe tbody tr th:only-of-type {\n",
       "        vertical-align: middle;\n",
       "    }\n",
       "\n",
       "    .dataframe tbody tr th {\n",
       "        vertical-align: top;\n",
       "    }\n",
       "\n",
       "    .dataframe thead th {\n",
       "        text-align: right;\n",
       "    }\n",
       "</style>\n",
       "<table border=\"1\" class=\"dataframe\">\n",
       "  <thead>\n",
       "    <tr style=\"text-align: right;\">\n",
       "      <th></th>\n",
       "      <th>Subject</th>\n",
       "      <th>Message</th>\n",
       "      <th>Spam/Ham</th>\n",
       "    </tr>\n",
       "    <tr>\n",
       "      <th>Message ID</th>\n",
       "      <th></th>\n",
       "      <th></th>\n",
       "      <th></th>\n",
       "    </tr>\n",
       "  </thead>\n",
       "  <tbody>\n",
       "    <tr>\n",
       "      <th>0</th>\n",
       "      <td>christmas tree farm picture</td>\n",
       "      <td></td>\n",
       "      <td>0</td>\n",
       "    </tr>\n",
       "    <tr>\n",
       "      <th>1</th>\n",
       "      <td>vastar resource  inc</td>\n",
       "      <td>gary  production from the high island larger b...</td>\n",
       "      <td>0</td>\n",
       "    </tr>\n",
       "    <tr>\n",
       "      <th>2</th>\n",
       "      <td>calpine daily gas nomination</td>\n",
       "      <td>calpine daily gas nomination 1  doc</td>\n",
       "      <td>0</td>\n",
       "    </tr>\n",
       "    <tr>\n",
       "      <th>3</th>\n",
       "      <td>re  issue</td>\n",
       "      <td>fyi  see note below  already done  stella     ...</td>\n",
       "      <td>0</td>\n",
       "    </tr>\n",
       "    <tr>\n",
       "      <th>5</th>\n",
       "      <td>mcmullen gas for 11  99</td>\n",
       "      <td>jackie  since the inlet to 3 river plant is sh...</td>\n",
       "      <td>0</td>\n",
       "    </tr>\n",
       "  </tbody>\n",
       "</table>\n",
       "</div>"
      ],
      "text/plain": [
       "                                 Subject  \\\n",
       "Message ID                                 \n",
       "0            christmas tree farm picture   \n",
       "1                  vastar resource  inc    \n",
       "2           calpine daily gas nomination   \n",
       "3                              re  issue   \n",
       "5                mcmullen gas for 11  99   \n",
       "\n",
       "                                                      Message  Spam/Ham  \n",
       "Message ID                                                               \n",
       "0                                                                     0  \n",
       "1           gary  production from the high island larger b...         0  \n",
       "2                         calpine daily gas nomination 1  doc         0  \n",
       "3           fyi  see note below  already done  stella     ...         0  \n",
       "5           jackie  since the inlet to 3 river plant is sh...         0  "
      ]
     },
     "execution_count": 16,
     "metadata": {},
     "output_type": "execute_result"
    }
   ],
   "source": [
    "train_data.head()"
   ]
  },
  {
   "cell_type": "code",
   "execution_count": 17,
   "id": "-ySQvTMwiEL3",
   "metadata": {
    "colab": {
     "base_uri": "https://localhost:8080/"
    },
    "id": "-ySQvTMwiEL3",
    "outputId": "f100929c-761e-4e64-ff80-410cf324c832"
   },
   "outputs": [
    {
     "name": "stdout",
     "output_type": "stream",
     "text": [
      "CPU times: total: 2.81 s\n",
      "Wall time: 5.1 s\n"
     ]
    }
   ],
   "source": [
    "%%time\n",
    "# Vector hóa Subject và Message\n",
    "vectorizer = TfidfVectorizer(stop_words='english', max_features=3000)\n",
    "\n",
    "train_data['combined_text'] = train_data['Subject'] + \" \" + train_data['Message']\n",
    "val_data['combined_text'] = val_data['Subject'] + \" \" + val_data['Message']\n",
    "\n",
    "X_train_tfidf = vectorizer.fit_transform(train_data['combined_text'])\n",
    "y_train = train_data['Spam/Ham']\n",
    "\n",
    "# Lấy tập val làm tập để test mô hình\n",
    "X_val_tfidf = vectorizer.transform(val_data['combined_text'])\n",
    "y_val = val_data['Spam/Ham']\n"
   ]
  },
  {
   "cell_type": "markdown",
   "id": "0af39c24-e554-4ce5-bb59-3e05d391a0fc",
   "metadata": {
    "id": "0af39c24-e554-4ce5-bb59-3e05d391a0fc"
   },
   "source": [
    "# 3. Model"
   ]
  },
  {
   "cell_type": "code",
   "execution_count": 18,
   "id": "7jD-wsC9NtPe",
   "metadata": {
    "id": "7jD-wsC9NtPe"
   },
   "outputs": [],
   "source": [
    "# Hàm huấn luyện và đánh giá mô hình một mô hình\n",
    "def train_and_evaluate_model(model, model_name, X_train, y_train, X_val, y_val, param_grid=None):\n",
    "    start_time = time.time()\n",
    "\n",
    "    # Khảo sát siêu tham số\n",
    "    if param_grid:\n",
    "        print(f\" === Khảo sát siêu tham số mô hình {model_name} sử dụng GridSearchCV ...\")\n",
    "        grid_search = GridSearchCV(model, param_grid, cv=5, scoring='accuracy', verbose=1)\n",
    "        grid_search.fit(X_train, y_train)\n",
    "        model = grid_search.best_estimator_  # Lấy mô hình với siêu tham số tốt nhất\n",
    "        print(f\"  Tham số tốt nhất của {model_name}: {grid_search.best_params_}\")\n",
    "    else:\n",
    "        # Huấn luyện mô hình mà không khảo sát siêu tham số\n",
    "        model.fit(X_train, y_train)\n",
    "\n",
    "    # Dự đoán trên tập kiểm tra\n",
    "    y_pred = model.predict(X_val)\n",
    "\n",
    "    # Đánh giá mô hình\n",
    "    accuracy = accuracy_score(y_val, y_pred)\n",
    "    # print(f\"  {model_name} Accuracy: {accuracy:.2f}\")\n",
    "    # print(classification_report(y_val, y_pred))\n",
    "\n",
    "    # Tính thời gian huấn luyện\n",
    "    training_time = time.time() - start_time\n",
    "    # print(f\"  Training time: {training_time:.2f} seconds\")\n",
    "\n",
    "    return model, accuracy, training_time"
   ]
  },
  {
   "cell_type": "code",
   "execution_count": 19,
   "id": "E39XKdmyc3DF",
   "metadata": {
    "id": "E39XKdmyc3DF"
   },
   "outputs": [],
   "source": [
    "import matplotlib.pyplot as plt\n",
    "from sklearn.metrics import confusion_matrix, ConfusionMatrixDisplay\n",
    "\n",
    "# Hàm huấn luyện và đánh giá nhiều mô hình\n",
    "def train_and_evaluate_multimodel(model_dict, X_train, y_train, X_val, y_val):\n",
    "    # Dictionary lưu trữ kết quả đánh giá của các mô hình\n",
    "    results = {}\n",
    "\n",
    "    # Duyệt qua từng mô hình trong dictionary\n",
    "    for model_name, model_info in model_dict.items():\n",
    "        model = model_info['model']  # Lấy mô hình\n",
    "        param_grid = model_info.get('param_grid', None)  # Lấy param_grid (nếu có)\n",
    "\n",
    "        print(f\"\\n===== Huấn luyện và đánh giá {model_name} model =====\")\n",
    "\n",
    "        # Gọi hàm train_and_evaluate_model cho từng mô hình\n",
    "        best_model, accuracy, training_time = train_and_evaluate_model(model, model_name, X_train, y_train, X_val, y_val, param_grid)\n",
    "\n",
    "        # Lưu kết quả vào dictionary\n",
    "        results[model_name] = {\n",
    "            'best_model': best_model,\n",
    "            'accuracy': accuracy,\n",
    "            'training_time': training_time\n",
    "        }\n",
    "\n",
    "    return results\n",
    "\n",
    "# Hàm vẽ confusion matrix\n",
    "def plot_confusion_matrix(cm, model_name):\n",
    "    disp = ConfusionMatrixDisplay(confusion_matrix=cm)\n",
    "    disp.plot(cmap=plt.cm.Blues)\n",
    "    plt.title(f\"Confusion Matrix for {model_name}\")\n",
    "    plt.show()"
   ]
  },
  {
   "cell_type": "code",
   "execution_count": 20,
   "id": "9o5EzDnye9L3",
   "metadata": {
    "colab": {
     "base_uri": "https://localhost:8080/"
    },
    "id": "9o5EzDnye9L3",
    "outputId": "25ee0a16-bb3f-4c19-8dd8-2f05edf55b7b"
   },
   "outputs": [
    {
     "name": "stdout",
     "output_type": "stream",
     "text": [
      "\n",
      "===== Huấn luyện và đánh giá Naive Bayes model =====\n",
      "\n",
      "===== Huấn luyện và đánh giá Decision Tree model =====\n",
      "\n",
      "===== Huấn luyện và đánh giá Random Forest model =====\n",
      "\n",
      "===== Huấn luyện và đánh giá SVM model =====\n",
      "Naive Bayes - Accuracy: 0.9763, Training Time: 0.02 seconds\n",
      "Decision Tree - Accuracy: 0.9644, Training Time: 14.85 seconds\n",
      "Random Forest - Accuracy: 0.9878, Training Time: 31.03 seconds\n",
      "SVM - Accuracy: 0.9871, Training Time: 139.66 seconds\n"
     ]
    }
   ],
   "source": [
    "model_dict = {\n",
    "    \"Naive Bayes\": {\n",
    "        'model': MultinomialNB(),\n",
    "        # 'param_grid': {\n",
    "        #     'alpha': [0.1, 0.5, 1.0, 1.5, 2.0]\n",
    "        # }\n",
    "    },\n",
    "    \"Decision Tree\": {\n",
    "        'model': DecisionTreeClassifier(random_state=42),\n",
    "        # 'param_grid': {\n",
    "        #     'max_depth': [None, 10, 20, 30],\n",
    "        #     'criterion': ['gini', 'entropy']\n",
    "        # }\n",
    "    },\n",
    "    \"Random Forest\": {\n",
    "        'model': RandomForestClassifier(random_state=42),\n",
    "        # 'param_grid': {\n",
    "        #     'n_estimators': [100, 200],\n",
    "        #     'max_depth': [None, 10, 20]\n",
    "        # }\n",
    "    },\n",
    "    \"SVM\": {\n",
    "        'model': SVC(random_state=42),\n",
    "        # 'param_grid': {\n",
    "        #     'C': [0.1, 1, 10],\n",
    "        #     'kernel': ['linear', 'rbf']\n",
    "        # }\n",
    "    }\n",
    "}\n",
    "\n",
    "# Huấn luyện và đánh giá các mô hình\n",
    "results = train_and_evaluate_multimodel(model_dict, X_train_tfidf, y_train, X_val_tfidf, y_val)\n",
    "\n",
    "# In kết quả\n",
    "for model_name, result in results.items():\n",
    "    print(f\"{model_name} - Accuracy: {result['accuracy']:.4f}, Training Time: {result['training_time']:.2f} seconds\")\n"
   ]
  },
  {
   "cell_type": "code",
   "execution_count": 21,
   "id": "YbSAVxOyfzOo",
   "metadata": {
    "id": "YbSAVxOyfzOo"
   },
   "outputs": [],
   "source": [
    "import matplotlib.pyplot as plt\n",
    "import seaborn as sns\n",
    "from sklearn.metrics import confusion_matrix\n",
    "\n",
    "# Hàm vẽ confusion matrix cho từng mô hình\n",
    "def plot_confusion_matrices(results, X_val, y_val):\n",
    "    fig, axes = plt.subplots(2, 2, figsize=(12, 10))\n",
    "    axes = axes.flatten()  # Chuyển ma trận 2D thành 1D để dễ dàng index\n",
    "\n",
    "    for i, (model_name, result) in enumerate(results.items()):\n",
    "        best_model = result['best_model']  # Lấy mô hình tốt nhất\n",
    "        y_pred = best_model.predict(X_val)  # Dự đoán trên tập validation\n",
    "\n",
    "        # Tạo confusion matrix\n",
    "        cm = confusion_matrix(y_val, y_pred)\n",
    "\n",
    "        # Vẽ confusion matrix\n",
    "        sns.heatmap(cm, annot=True, fmt='d', cmap='Blues', ax=axes[i])\n",
    "        axes[i].set_title(f\"{model_name} Confusion Matrix\")\n",
    "        axes[i].set_xlabel('Predicted Label')\n",
    "        axes[i].set_ylabel('True Label')\n",
    "\n",
    "    plt.tight_layout()  # Tự động điều chỉnh khoảng cách giữa các biểu đồ\n",
    "    plt.show()"
   ]
  },
  {
   "cell_type": "code",
   "execution_count": 22,
   "id": "9cplxUGYf0hF",
   "metadata": {
    "colab": {
     "base_uri": "https://localhost:8080/",
     "height": 1000
    },
    "id": "9cplxUGYf0hF",
    "outputId": "a2b9b0aa-99bf-4324-99b4-c57b57016f73"
   },
   "outputs": [
    {
     "data": {
      "image/png": "[encoded data removed]",
      "text/plain": [
       "<Figure size 1200x1000 with 8 Axes>"
      ]
     },
     "metadata": {},
     "output_type": "display_data"
    }
   ],
   "source": [
    "# Ví dụ gọi hàm với kết quả sau khi huấn luyện 4 mô hình\n",
    "plot_confusion_matrices(results, X_val_tfidf, y_val)"
   ]
  },
  {
   "cell_type": "code",
   "execution_count": 23,
   "id": "lIho49MEhWue",
   "metadata": {
    "id": "lIho49MEhWue"
   },
   "outputs": [],
   "source": [
    "import matplotlib.pyplot as plt\n",
    "import numpy as np\n",
    "\n",
    "# Hàm vẽ biểu đồ so sánh accuracy và thời gian huấn luyện của các mô hình\n",
    "def plot_model_comparison(results):\n",
    "    \"\"\"\n",
    "    Hàm này nhận vào kết quả sau khi huấn luyện các mô hình,\n",
    "    và vẽ biểu đồ so sánh accuracy và training time (đường cho thời gian, cột cho accuracy).\n",
    "\n",
    "    results: Dictionary chứa các thông tin của mô hình như accuracy và training_time\n",
    "    \"\"\"\n",
    "    # Tách tên mô hình, accuracy và thời gian huấn luyện từ kết quả\n",
    "    model_names = list(results.keys())\n",
    "    accuracies = [results[model]['accuracy'] for model in model_names]\n",
    "    training_times = [results[model]['training_time'] for model in model_names]\n",
    "\n",
    "    # Thiết lập chiều rộng của các cột trong biểu đồ\n",
    "    bar_width = 0.4\n",
    "    index = np.arange(len(model_names))  # Vị trí của các mô hình trên trục X\n",
    "\n",
    "    # Tạo figure và các subplots\n",
    "    fig, ax1 = plt.subplots(figsize=(10, 6))\n",
    "\n",
    "    # Vẽ biểu đồ cột cho accuracy\n",
    "    bars = ax1.bar(index, accuracies, bar_width, label='Accuracy', color='b')\n",
    "\n",
    "    # Thiết lập thông tin cho trục X và tiêu đề\n",
    "    ax1.set_xlabel('Model')\n",
    "    ax1.set_ylabel('Accuracy', color='b')\n",
    "    ax1.set_title('Model Comparison: Accuracy and Training Time')\n",
    "\n",
    "    # Gắn tên các mô hình vào trục X\n",
    "    ax1.set_xticks(index)\n",
    "    ax1.set_xticklabels(model_names)\n",
    "\n",
    "    # Hiển thị giá trị accuracy trên đầu cột\n",
    "    for bar in bars:\n",
    "        yval = bar.get_height()\n",
    "        ax1.text(bar.get_x() + bar.get_width()/2, yval + 0.02, f'{yval:.2f}', ha='center', va='bottom', color='b')\n",
    "\n",
    "    # Vẽ biểu đồ đường cho training time\n",
    "    ax2 = ax1.twinx()  # Tạo một trục Y thứ hai để vẽ đường cho thời gian huấn luyện\n",
    "    ax2.plot(index, training_times, color='r', marker='o', label='Training Time', linewidth=2)\n",
    "    ax2.set_ylabel('Training Time (seconds)', color='r')\n",
    "\n",
    "    # Hiển thị giá trị thời gian tại các điểm trên đường\n",
    "    for i, time in enumerate(training_times):\n",
    "        ax2.text(i, time, f'{time:.2f}', ha='center', va='bottom', color='r')\n",
    "\n",
    "    # Hiển thị legend (chú thích)\n",
    "    ax1.legend(loc='upper left',bbox_to_anchor=(0, 1.05))\n",
    "    ax2.legend(loc='upper right', bbox_to_anchor=(1, 1.05))\n",
    "\n",
    "    # Điều chỉnh layout để không bị trùng lặp các thành phần\n",
    "    plt.tight_layout()\n",
    "    plt.subplots_adjust(top=1.2)\n",
    "    plt.show()"
   ]
  },
  {
   "cell_type": "code",
   "execution_count": 24,
   "id": "g8YRYiqHhb9H",
   "metadata": {
    "colab": {
     "base_uri": "https://localhost:8080/",
     "height": 768
    },
    "id": "g8YRYiqHhb9H",
    "outputId": "abedce3f-4e3b-4c9b-ff54-1921893c8892"
   },
   "outputs": [
    {
     "data": {
      "image/png": "[encoded data removed]",
      "text/plain": [
       "<Figure size 1000x600 with 2 Axes>"
      ]
     },
     "metadata": {},
     "output_type": "display_data"
    }
   ],
   "source": [
    "plot_model_comparison(results)"
   ]
  },
  {
   "cell_type": "code",
   "execution_count": 25,
   "id": "kJqBCON25uHX",
   "metadata": {
    "id": "kJqBCON25uHX"
   },
   "outputs": [],
   "source": [
    "# Lưu model vào My drive\n",
    "# from google.colab import drive\n",
    "# drive.mount('/content/drive')"
   ]
  },
  {
   "cell_type": "code",
   "execution_count": 26,
   "id": "_Y3Jy0W34UVg",
   "metadata": {
    "id": "_Y3Jy0W34UVg"
   },
   "outputs": [],
   "source": [
    "# import pickle\n",
    "\n",
    "# # Lưu mô hình vào thư mục drive\n",
    "# pickle.dump(results['Naive Bayes']['best_model'], open('/content/drive/MyDrive/data_model_lab1/nb_model_param.pkl', 'wb'))\n",
    "# pickle.dump(results['Decision Tree']['best_model'], open('/content/drive/MyDrive/data_model_lab1/dt_model_param.pkl', 'wb'))\n",
    "# pickle.dump(results['Random Forest']['best_model'], open('/content/drive/MyDrive/data_model_lab1/rf_model_param.pkl', 'wb'))\n",
    "# pickle.dump(results['SVM']['best_model'], open('/content/drive/MyDrive/data_model_lab1/svm_model_param.pkl', 'wb'))"
   ]
  },
  {
   "cell_type": "markdown",
   "id": "63gOEzfPl7Ft",
   "metadata": {
    "id": "63gOEzfPl7Ft"
   },
   "source": [
    "## Link tham khảo:\n",
    "https://scikit-learn.org/stable/modules/generated/sklearn.naive_bayes.MultinomialNB.html\n",
    "\n",
    "https://scikit-learn.org/stable/modules/generated/sklearn.tree.DecisionTreeClassifier.html\n",
    "\n",
    "https://scikit-learn.org/stable/modules/generated/sklearn.ensemble.RandomForestClassifier.html\n",
    "\n",
    "https://scikit-learn.org/stable/modules/svm.html\n",
    "\n",
    "https://aman.ai/primers/ai/word-vectors/#term-frequency-inverse-document-frequency-tf-idf"
   ]
  }
 ],
 "metadata": {
  "colab": {
   "provenance": []
  },
  "kernelspec": {
   "display_name": "Python 3 (ipykernel)",
   "language": "python",
   "name": "python3"
  },
  "language_info": {
   "codemirror_mode": {
    "name": "ipython",
    "version": 3
   },
   "file_extension": ".py",
   "mimetype": "text/x-python",
   "name": "python",
   "nbconvert_exporter": "python",
   "pygments_lexer": "ipython3",
   "version": "3.11.7"
  }
 },
 "nbformat": 4,
 "nbformat_minor": 5
}
